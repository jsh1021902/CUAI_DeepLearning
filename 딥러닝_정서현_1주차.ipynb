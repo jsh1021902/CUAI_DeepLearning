{
  "nbformat": 4,
  "nbformat_minor": 0,
  "metadata": {
    "colab": {
      "provenance": [],
      "authorship_tag": "ABX9TyNHMIHPPW1eSd2huL1n2kXI",
      "include_colab_link": true
    },
    "kernelspec": {
      "name": "python3",
      "display_name": "Python 3"
    },
    "language_info": {
      "name": "python"
    }
  },
  "cells": [
    {
      "cell_type": "markdown",
      "metadata": {
        "id": "view-in-github",
        "colab_type": "text"
      },
      "source": [
        "<a href=\"https://colab.research.google.com/github/jsh1021902/CUAI_DeepLearning/blob/main/%EB%94%A5%EB%9F%AC%EB%8B%9D_%EC%A0%95%EC%84%9C%ED%98%84_1%EC%A3%BC%EC%B0%A8.ipynb\" target=\"_parent\"><img src=\"https://colab.research.google.com/assets/colab-badge.svg\" alt=\"Open In Colab\"/></a>"
      ]
    },
    {
      "cell_type": "markdown",
      "source": [
        "# 1. 헬로 파이썬"
      ],
      "metadata": {
        "id": "3drxFYXm0dAI"
      }
    },
    {
      "cell_type": "markdown",
      "source": [
        "## 1.3 파이썬 인터프리터"
      ],
      "metadata": {
        "id": "eGCRWqa00ZHH"
      }
    },
    {
      "cell_type": "markdown",
      "source": [
        "### 1.3.1 산술 연산"
      ],
      "metadata": {
        "id": "ksXUJEtx0o27"
      }
    },
    {
      "cell_type": "code",
      "execution_count": null,
      "metadata": {
        "colab": {
          "base_uri": "https://localhost:8080/"
        },
        "id": "2FcIHH5AyS47",
        "outputId": "4c9e969f-168b-4857-a735-e58403dd0094"
      },
      "outputs": [
        {
          "output_type": "stream",
          "name": "stdout",
          "text": [
            "1 + 2 = 3\n",
            "1 - 2 = -1\n",
            "4 * 5 = 20\n",
            "7 / 5 = 1.4\n",
            "3 ** 2 = 9\n"
          ]
        }
      ],
      "source": [
        "print('1 + 2 =',1 + 2)           # 덧셈\n",
        "print('1 - 2 =',1 - 2)           # 뺄셈\n",
        "print('4 * 5 =',4 * 5)           # 곱셈\n",
        "print('7 / 5 =',7 / 5)           # 나눗셈 (정수를 나눈 결과는 소수(부동소수점)가 됨)\n",
        "print('3 ** 2 =',3 ** 2)         # 거듭제곱 (3 ** 2 : 3의 2제곱)"
      ]
    },
    {
      "cell_type": "markdown",
      "source": [
        "### 1.3.2 자료형"
      ],
      "metadata": {
        "id": "x3HSWXjc2A8n"
      }
    },
    {
      "cell_type": "markdown",
      "source": [
        "- **자료형** : 데이터의 성질을 나타내는 것  \n",
        "→ **type()** 함수로 특정 데이터의 자료형을 알아 볼 수 있음  \n",
        "→ 자료형의 예로는 **정수, 소수, 문자열**과 같은 형태가 있음"
      ],
      "metadata": {
        "id": "f8tOgveH2HgJ"
      }
    },
    {
      "cell_type": "code",
      "source": [
        "print('10의 type:',type(10))            # 10은 int(정수)\n",
        "print('2.718의 type:',type(2.718))      # 2.718은 float(부동소수점)\n",
        "print('hello의 type:',type(\"hello\"))    # 'hello'는 str(문자열)"
      ],
      "metadata": {
        "colab": {
          "base_uri": "https://localhost:8080/"
        },
        "id": "Bm8WcULHzwLt",
        "outputId": "b19fedac-4ce6-4f9d-9807-72af0a3f5d7d"
      },
      "execution_count": null,
      "outputs": [
        {
          "output_type": "stream",
          "name": "stdout",
          "text": [
            "10의 type: <class 'int'>\n",
            "2.718의 type: <class 'float'>\n",
            "hello의 type: <class 'str'>\n"
          ]
        }
      ]
    },
    {
      "cell_type": "markdown",
      "source": [
        "### 1.3.3 변수"
      ],
      "metadata": {
        "id": "1KTJjREB7rgl"
      }
    },
    {
      "cell_type": "markdown",
      "source": [
        " - **변수** : 알파벳을 사용해 변수 정의 가능  \n",
        " → 변수 사용해 계산하거나 변수에 다른 값을 대입 가능"
      ],
      "metadata": {
        "id": "mZU805nGOQjm"
      }
    },
    {
      "cell_type": "markdown",
      "source": [
        "- 파이썬은 **동적 언어**로 분류되므로 변수의 자료형을 상황에 맞게 자동으로 결정"
      ],
      "metadata": {
        "id": "Xs2cj2mQP9cK"
      }
    },
    {
      "cell_type": "code",
      "source": [
        "x = 10                                          # 초기화\n",
        "print('x :',x)                                  # x의 값 출력\n",
        "\n",
        "x = 100                                         # 변수에 값 대입\n",
        "print('다른 값 대입한 x :',x)                   # 다른 값을 대입한 변수 출력\n",
        "\n",
        "y = 3.14            \n",
        "print('y :',y)                                  # y의 값 출력\n",
        "print('x * y :',x * y)                          # 두 변수 x, y를 사용해 계산한 값 출력\n",
        "\n",
        "print('x * y의 데이터 타입 :',type(x * y))      # x * y의 데이터 타입 = float "
      ],
      "metadata": {
        "id": "LHRJkHH77jAZ",
        "colab": {
          "base_uri": "https://localhost:8080/"
        },
        "outputId": "4a98446d-f46a-4bca-d8ea-8a9d2c226e2d"
      },
      "execution_count": 2,
      "outputs": [
        {
          "output_type": "stream",
          "name": "stdout",
          "text": [
            "x : 10\n",
            "다른 값 대입한 x : 100\n",
            "y : 3.14\n",
            "x * y : 314.0\n",
            "x * y의 데이터 타입 : <class 'float'>\n"
          ]
        }
      ]
    },
    {
      "cell_type": "markdown",
      "source": [
        "### 1.3.4 리스트"
      ],
      "metadata": {
        "id": "rZ1NRJ677w5H"
      }
    },
    {
      "cell_type": "markdown",
      "source": [
        "- 여러 데이터를 **리스트**로도 정리할 수 있음"
      ],
      "metadata": {
        "id": "xqxTvIGrQOmv"
      }
    },
    {
      "cell_type": "code",
      "source": [
        "a = [1, 2, 3, 4, 5]                             # 리스트 생성\n",
        "print('a :',a)                                  # 리스트의 내용 출력\n",
        "\n",
        "print('a의 길이 :',len(a))                      # 리스트의 길이 출력\n",
        "\n",
        "print('첫 원소 :',a[0])                         # 첫 원소에 접근\n",
        "print('다섯 번째 원소 :',a[4])                  # 다섯 번째 원소에 접근\n",
        "\n",
        "a[4] = 99                                       # 값 대입\n",
        "print('수정된 a :',a)"
      ],
      "metadata": {
        "id": "LYii8P2i8AQ5",
        "colab": {
          "base_uri": "https://localhost:8080/"
        },
        "outputId": "52216fe1-18d1-4169-a3a2-c9daef45dd2f"
      },
      "execution_count": 4,
      "outputs": [
        {
          "output_type": "stream",
          "name": "stdout",
          "text": [
            "a : [1, 2, 3, 4, 5]\n",
            "a의 길이 : 5\n",
            "첫 원소 : 1\n",
            "다섯 번째 원소 : 5\n",
            "수정된 a : [1, 2, 3, 4, 99]\n"
          ]
        }
      ]
    },
    {
      "cell_type": "markdown",
      "source": [
        "- **인덱스**(색인) : [ ] 안의 수 (인덱스는 0부터 시작 → 인덱스 0이 첫 번째 원소 가리킴)\n",
        "- **슬라이싱** : 범위를 지정해 원하는 부분 리스트를 얻을 수 있음 "
      ],
      "metadata": {
        "id": "hCzO59wpRfDX"
      }
    },
    {
      "cell_type": "code",
      "source": [
        "print('a :',a)                 \n",
        "\n",
        "print('인덱스 0부터 2까지 :',a[0:2])                            # 인덱스 0부터 2까지 얻기 (2번째는 포함하지 않음)\n",
        "print('인덱스 1부터 끝까지 :',a[1:])                            # 인덱스 1부터 끝까지 얻기\n",
        "print('처음부터 인덱스 3까지 :',a[:3])                          # 처음부터 인덱스 3까지 얻기 (3번째는 포함하지 않음)\n",
        "print('처음부터 마지막 원소의 1개 앞까지 :',a[:-1])             # 처음부터 마지막 원소의 1개 앞까지 얻기\n",
        "print('처음부터 마지막 원소의 2개 앞까지 :',a[:-2])             # 처음부터 마지막 원소의 2개 앞까지 얻기"
      ],
      "metadata": {
        "colab": {
          "base_uri": "https://localhost:8080/"
        },
        "id": "Jd0ekV1VR7lS",
        "outputId": "a63feb79-63ed-4d3f-b028-71802ca4351f"
      },
      "execution_count": 6,
      "outputs": [
        {
          "output_type": "stream",
          "name": "stdout",
          "text": [
            "a : [1, 2, 3, 4, 99]\n",
            "인덱스 0부터 2까지 : [1, 2]\n",
            "인덱스 1부터 끝까지 : [2, 3, 4, 99]\n",
            "처음부터 인덱스 3까지 : [1, 2, 3]\n",
            "처음부터 마지막 원소의 1개 앞까지 : [1, 2, 3, 4]\n",
            "처음부터 마지막 원소의 2개 앞까지 : [1, 2, 3]\n"
          ]
        }
      ]
    },
    {
      "cell_type": "markdown",
      "source": [
        "### 1.3.5 딕셔너리"
      ],
      "metadata": {
        "id": "VeFmrjDz8BFs"
      }
    },
    {
      "cell_type": "markdown",
      "source": [
        "- **리스트** : 인덱스 번호로 0, 1, 2, ... 순으로 값을 저장\n",
        "- **딕셔너리** : **키(Key)**와 **값(Value)**을 한 쌍으로 저장"
      ],
      "metadata": {
        "id": "77zZcJuvTB32"
      }
    },
    {
      "cell_type": "code",
      "source": [
        "me = {'height' : 180}                           # 딕셔너리 생성\n",
        "print('height의 원소 :',me['height'])           # 원소에 접근\n",
        "\n",
        "me['weight'] = 70                               # 새 원소 추가\n",
        "print('딕셔너리 me :',me)                       "
      ],
      "metadata": {
        "id": "MMLPOqBq8DyW",
        "colab": {
          "base_uri": "https://localhost:8080/"
        },
        "outputId": "09b0cd23-a86b-42aa-d8ec-8e29ed08538c"
      },
      "execution_count": 7,
      "outputs": [
        {
          "output_type": "stream",
          "name": "stdout",
          "text": [
            "height의 원소 : 180\n",
            "딕셔너리 me : {'height': 180, 'weight': 70}\n"
          ]
        }
      ]
    },
    {
      "cell_type": "markdown",
      "source": [
        "### 1.3.6 bool"
      ],
      "metadata": {
        "id": "H9y1c3Y38Ec9"
      }
    },
    {
      "cell_type": "markdown",
      "source": [
        "- **bool** : **True(참)**와 **False(거짓)**라는 두 값 중 하나를 취함 → and, or, not 연산자를 사용할 수 있음"
      ],
      "metadata": {
        "id": "EOCchtfVVE96"
      }
    },
    {
      "cell_type": "code",
      "source": [
        "hungry = True                                       # 배가 고프다.\n",
        "sleepy = False                                      # 졸리지 않다.\n",
        "print('hungry의 데이터 타입 :',type(hungry))        # 데이터 타입 = bool\n",
        "\n",
        "print('hungry의 부정 :',not hungry)                 # hungry의 부정형 = False\n",
        "print('hungry and sleepy :',hungry and sleepy)       # 배가 고프다 그리고 졸리지 않다 → 교집합 (둘 다 모두 성립해야 함)\n",
        "print('hungry or sleepy :',hungry or sleepy)        # 배가 고프다 또는 졸리지 않다 → 합집합 (둘 중 하나만 성립해도 됨)"
      ],
      "metadata": {
        "id": "XxCxL00G8Gq6",
        "colab": {
          "base_uri": "https://localhost:8080/"
        },
        "outputId": "c2fcc317-c97d-48d7-f4fd-e017d067ec0c"
      },
      "execution_count": 10,
      "outputs": [
        {
          "output_type": "stream",
          "name": "stdout",
          "text": [
            "hungry의 데이터 타입 : <class 'bool'>\n",
            "hungry의 부정 : False\n",
            "hungry and sleepy : False\n",
            "hungry or sleepy : True\n"
          ]
        }
      ]
    },
    {
      "cell_type": "markdown",
      "source": [
        "### 1.3.7 if 문"
      ],
      "metadata": {
        "id": "SEbVcayB8Hb_"
      }
    },
    {
      "cell_type": "markdown",
      "source": [
        "- 조건에 따라서 달리 처리하려면 **if / else 문**을 사용"
      ],
      "metadata": {
        "id": "ulQdCOzMXHI1"
      }
    },
    {
      "cell_type": "code",
      "source": [
        "hungry = True\n",
        "\n",
        "if hungry:\n",
        "    print(\"I'm hungry\")"
      ],
      "metadata": {
        "id": "3VFZAsn68KSV",
        "colab": {
          "base_uri": "https://localhost:8080/"
        },
        "outputId": "3383e4de-c2ed-4aa1-8c98-5cdf2026801f"
      },
      "execution_count": 12,
      "outputs": [
        {
          "output_type": "stream",
          "name": "stdout",
          "text": [
            "I'm hungry\n"
          ]
        }
      ]
    },
    {
      "cell_type": "code",
      "source": [
        "hungry = False\n",
        "\n",
        "if hungry:\n",
        "    print(\"I'm hungry\")             # 들여쓰기는 공백 문자로\n",
        "else:\n",
        "    print(\"I'm not hungry\")\n",
        "    print(\"I'm sleepy\")"
      ],
      "metadata": {
        "colab": {
          "base_uri": "https://localhost:8080/"
        },
        "id": "nV7ur25cYOVR",
        "outputId": "04fd9c7a-81ff-4017-f7e6-589563ad5065"
      },
      "execution_count": 13,
      "outputs": [
        {
          "output_type": "stream",
          "name": "stdout",
          "text": [
            "I'm not hungry\n",
            "I'm sleepy\n"
          ]
        }
      ]
    },
    {
      "cell_type": "markdown",
      "source": [
        "- 공백 대신 탭문자를 써도 되지만 파이썬에서는 공백 문자 쪽을 권장\n",
        "→ 한 단계 더 들여 쓸 때마다 **공백 4개**씩을 더 추가하는 것이 일반적"
      ],
      "metadata": {
        "id": "8H9VMMczXUTy"
      }
    },
    {
      "cell_type": "markdown",
      "source": [
        "### 1.3.8 for 문"
      ],
      "metadata": {
        "id": "xPiRYSK78MPx"
      }
    },
    {
      "cell_type": "markdown",
      "source": [
        "- 반복(루프) 처리에는 **for 문**을 사용\n",
        "- **for 문** : 리스트 등 데이터 집합의 각 원소에 차례로 접근 가능"
      ],
      "metadata": {
        "id": "f2R8qEEKd3Ve"
      }
    },
    {
      "cell_type": "code",
      "source": [
        "for i in [1, 2, 3]:                 # [1, 2, 3]이라는 리스트 안의 원소를 하나씩 출력\n",
        "    print(i)"
      ],
      "metadata": {
        "colab": {
          "base_uri": "https://localhost:8080/"
        },
        "id": "h01dTKphGnJz",
        "outputId": "058bf317-f173-4c2c-a39a-93791da5767d"
      },
      "execution_count": 14,
      "outputs": [
        {
          "output_type": "stream",
          "name": "stdout",
          "text": [
            "1\n",
            "2\n",
            "3\n"
          ]
        }
      ]
    },
    {
      "cell_type": "markdown",
      "source": [
        "### 1.3.9 함수"
      ],
      "metadata": {
        "id": "VIPLZ8lVGn9O"
      }
    },
    {
      "cell_type": "markdown",
      "source": [
        "- **함수** : 특정 기능을 수행하는 일련의 명령들을 묶어 정의한 것  \n"
      ],
      "metadata": {
        "id": "jobYXHBgeS8B"
      }
    },
    {
      "cell_type": "code",
      "source": [
        "def hello():\n",
        "    print(\"Hello World!\")\n",
        "\n",
        "hello()"
      ],
      "metadata": {
        "colab": {
          "base_uri": "https://localhost:8080/"
        },
        "id": "BmHcdsYGGrR2",
        "outputId": "e18fbf68-6b6a-4c7e-f6ee-bda0113611b2"
      },
      "execution_count": 15,
      "outputs": [
        {
          "output_type": "stream",
          "name": "stdout",
          "text": [
            "Hello World!\n"
          ]
        }
      ]
    },
    {
      "cell_type": "markdown",
      "source": [
        "- 함수는 인수를 취할 수 있으며 '+' 연산자를 사용하여 문자열을 이어 붙일 수 있음"
      ],
      "metadata": {
        "id": "Rd-eboAHelux"
      }
    },
    {
      "cell_type": "code",
      "source": [
        "def hello(object):\n",
        "    print(\"Hello \" + object + \"!\")          # '+' 연산자를 사용하여 문자열 이어 붙일 수 있음\n",
        "\n",
        "hello(\"cat\")"
      ],
      "metadata": {
        "colab": {
          "base_uri": "https://localhost:8080/"
        },
        "id": "HO8z5Dzven-5",
        "outputId": "6c9470f7-fcce-4651-fcd0-9084e8ea49f7"
      },
      "execution_count": 17,
      "outputs": [
        {
          "output_type": "stream",
          "name": "stdout",
          "text": [
            "Hello cat!\n"
          ]
        }
      ]
    },
    {
      "cell_type": "markdown",
      "source": [
        "## 1.4 파이썬 스크립트 파일"
      ],
      "metadata": {
        "id": "Kxt4x-qsGuHh"
      }
    },
    {
      "cell_type": "markdown",
      "source": [
        "### 1.4.1 파일로 저장하기"
      ],
      "metadata": {
        "id": "6i3vk8sCGzJb"
      }
    },
    {
      "cell_type": "markdown",
      "source": [
        "1. 텍스트 편집기를 열고 hungry.py라는 파일 작성\n"
      ],
      "metadata": {
        "id": "zEoH-WfqfPmZ"
      }
    },
    {
      "cell_type": "code",
      "source": [
        "print(\"I'm hungry!\")"
      ],
      "metadata": {
        "colab": {
          "base_uri": "https://localhost:8080/"
        },
        "id": "mQwpFw9zGyhc",
        "outputId": "8607ab06-dc8c-4b2f-f6c1-a4e184a53c0e"
      },
      "execution_count": 18,
      "outputs": [
        {
          "output_type": "stream",
          "name": "stdout",
          "text": [
            "I'm hungry!\n"
          ]
        }
      ]
    },
    {
      "cell_type": "markdown",
      "source": [
        "2. 터미널을 열고 앞의 hungry.py를 저장한 디렉터리로 이동\n",
        "3. 파일 이름인 \"hungry.py\"를 인수로 python 명령을 실행함  \n",
        "(hungry.py가 ~/deep-learning-from-scratch/ch01 디렉터리에 있다고 가정)"
      ],
      "metadata": {
        "id": "8Eczof13f-30"
      }
    },
    {
      "cell_type": "code",
      "source": [
        "$ cd ~/deep-learning-from-scratch/ch01            # 디렉터리로 이동\n",
        "$ python hungry.py"
      ],
      "metadata": {
        "colab": {
          "base_uri": "https://localhost:8080/",
          "height": 137
        },
        "id": "ssNTuTrxgGIv",
        "outputId": "160fd525-b4bc-44d5-d1fd-6f0aad8f5e04"
      },
      "execution_count": 19,
      "outputs": [
        {
          "output_type": "error",
          "ename": "SyntaxError",
          "evalue": "ignored",
          "traceback": [
            "\u001b[0;36m  File \u001b[0;32m\"<ipython-input-19-b4c5d1b98254>\"\u001b[0;36m, line \u001b[0;32m1\u001b[0m\n\u001b[0;31m    $ cd ~/deep-learning-from-scratch/ch01            # 디렉터리로 이동\u001b[0m\n\u001b[0m    ^\u001b[0m\n\u001b[0;31mSyntaxError\u001b[0m\u001b[0;31m:\u001b[0m invalid syntax\n"
          ]
        }
      ]
    },
    {
      "cell_type": "markdown",
      "source": [
        "- 파이썬 코드를 담은 파일을 인수로 지정해 파이썬 프로그램 실행 가능"
      ],
      "metadata": {
        "id": "XLaswosLgAX8"
      }
    },
    {
      "cell_type": "markdown",
      "source": [
        "### 1.4.2 클래스"
      ],
      "metadata": {
        "id": "VHfLeGfMNDnY"
      }
    },
    {
      "cell_type": "markdown",
      "source": [
        "- **클래스(class)** : 직접 클래스를 정의하여 독자적인 자료형 만들 수 있음  \n",
        "→ 클래스에는 그 클래스만의 전용 함수(메서드)와 속성을 정의할 수 있음"
      ],
      "metadata": {
        "id": "EXPZZXUKhT6t"
      }
    },
    {
      "cell_type": "markdown",
      "source": [
        "**<클래스의 구조>**"
      ],
      "metadata": {
        "id": "FhXdf9Y5hu8A"
      }
    },
    {
      "cell_type": "code",
      "source": [
        "class 클래스 이름:\n",
        "    def __init__(self, 인수, ...):              # 생성자\n",
        "        ...\n",
        "    def 매서드 이름 1 (self, 인수, ...):        # 매서드 1\n",
        "        ...\n",
        "    def 매서드 이름 2 (self, 인수, ...):        # 매서드 2\n",
        "        ..."
      ],
      "metadata": {
        "id": "bP-RxRVWNFuA"
      },
      "execution_count": null,
      "outputs": []
    },
    {
      "cell_type": "markdown",
      "source": [
        "- **__init__** 메서드: 클래스를 초기화하는 방법을 정의 → 초기화용 메서드 = **생성자**  \n",
        "(클래스의 인스턴스가 만들어질 때 **한 번만** 불림)\n",
        "- 메서드의 **첫 번째 인수**로 자신(자신의 인스턴스)을 나타내는 **self**를 명시적으로 쓰는 것이 특징\n",
        "- **인스턴스 변수** : 인스턴스별로 저장되는 변수"
      ],
      "metadata": {
        "id": "qhmilZbNh0aa"
      }
    },
    {
      "cell_type": "code",
      "source": [
        "class Man:\n",
        "    def __init__(self, name):                   # Man의 생성자는 name이라는 인수를 받고, 그 인수로 인스턴스 변수인 self.name을 초기화\n",
        "        self.name = name                        # self 다음에 속성 이름을 써서 인스턴스 변수를 작성하거나 접근 가능\n",
        "        print(\"Initialized!\")\n",
        "    \n",
        "    def hello(self):\n",
        "        print(\"Hello \" + self.name + \"!\")\n",
        "\n",
        "    def goodbye(self):\n",
        "        print(\"Good-bye \" + self.name + \"!\")\n",
        "\n",
        "m = Man(\"David\")                                # Man 클래스에서 m이라는 인스턴스(객체) 생성\n",
        "m.hello()                                       # Hello David!\n",
        "m.goodbye()                                     # Good-bye David!"
      ],
      "metadata": {
        "id": "V2dG0QrjigO7"
      },
      "execution_count": 20,
      "outputs": []
    },
    {
      "cell_type": "markdown",
      "source": [
        "## 1.5 넘파이"
      ],
      "metadata": {
        "id": "_pf-P902NJE6"
      }
    },
    {
      "cell_type": "markdown",
      "source": [
        "### 1.5.1 넘파이 가져오기"
      ],
      "metadata": {
        "id": "ujAhdhMMNLtM"
      }
    },
    {
      "cell_type": "markdown",
      "source": [
        "- **넘파이** : 외부(표준 파이썬에는 포함되지 않는) 라이브러리"
      ],
      "metadata": {
        "id": "H8A2cmZgtpn6"
      }
    },
    {
      "cell_type": "code",
      "source": [
        "import numpy as np              # 라이브러리를 읽기 위해서는 import 문 사용"
      ],
      "metadata": {
        "id": "skMWqYluNKjq"
      },
      "execution_count": 21,
      "outputs": []
    },
    {
      "cell_type": "markdown",
      "source": [
        "### 1.5.2 넘파이 배열 생성하기"
      ],
      "metadata": {
        "id": "5Hp4gLbmNQA9"
      }
    },
    {
      "cell_type": "markdown",
      "source": [
        "- **np.array()** 메서드 : **넘파이 배열** 만들 때 사용  \n",
        "→ **np.array()**는 파이썬의 리스트를 인수로 받아 넘파이 라이브러리가 제공하는 특수한 형태의 배열(**numpy.ndarray**)을 반환"
      ],
      "metadata": {
        "id": "esLjJxO_t3E_"
      }
    },
    {
      "cell_type": "code",
      "source": [
        "x = np.array([1.0, 2.0, 3.0])\n",
        "print('x :', x)\n",
        "\n",
        "print('x의 데이터 타입 :', type(x))         # 데이터 타입 = ndarray"
      ],
      "metadata": {
        "colab": {
          "base_uri": "https://localhost:8080/"
        },
        "id": "blo42MKjNS6S",
        "outputId": "ea83cf17-f4de-42ae-e46e-558949c1bf99"
      },
      "execution_count": 22,
      "outputs": [
        {
          "output_type": "stream",
          "name": "stdout",
          "text": [
            "x : [1. 2. 3.]\n",
            "x의 데이터 타입 : <class 'numpy.ndarray'>\n"
          ]
        }
      ]
    },
    {
      "cell_type": "markdown",
      "source": [
        "### 1.5.3 넘파이의 산술 연산"
      ],
      "metadata": {
        "id": "doANz2iHNT7d"
      }
    },
    {
      "cell_type": "markdown",
      "source": [
        "- 산술연산은 각 원소에 대해 행해지므로 연산하는 **두 배열은 원소 수가 같아야 함**\n",
        "- **넘파이 배열**은 원소별 계산뿐 아니라 **넘파이 배열과 수치 하나(스칼라값)의 조합으로 된 산술 연산**도 수행 가능  \n",
        "→ **브로드캐스트** : 스칼라값과의 계산이 넘파이 배열의 **원소별로 한 번씩** 수행"
      ],
      "metadata": {
        "id": "qkDHzSeWvNhR"
      }
    },
    {
      "cell_type": "code",
      "source": [
        "x = np.array([1.0, 2.0, 3.0])\n",
        "print('x :', x)\n",
        "\n",
        "print('x / 2.0 :', x / 2.0)                             # 브로드캐스트 : 넘파이 배열과 수치 하나(스칼라값)의 조합으로 된 산술 연산"
      ],
      "metadata": {
        "colab": {
          "base_uri": "https://localhost:8080/"
        },
        "id": "T8WNUU71NZSY",
        "outputId": "8d794227-f526-493c-e847-2a04d9aec9b4"
      },
      "execution_count": 24,
      "outputs": [
        {
          "output_type": "stream",
          "name": "stdout",
          "text": [
            "x : [1. 2. 3.]\n",
            "x / 2.0 : [0.5 1.  1.5]\n"
          ]
        }
      ]
    },
    {
      "cell_type": "markdown",
      "source": [
        "### 1.5.4 넘파이의 N차원 배열"
      ],
      "metadata": {
        "id": "og42ndHmNbWg"
      }
    },
    {
      "cell_type": "markdown",
      "source": [
        "- 넘파이는 1차원 배열뿐 아니라 다차원 배열도 작성 가능\n",
        "- **벡터(vector)** : **1차원** 배열\n",
        "- **행렬(matrix)** : **2차원** 배열\n",
        "- **다차원 배열** : **3차원 이상**의 배열\n",
        "- **텐서(tensor)** : 벡터와 행렬을 일반화한 것"
      ],
      "metadata": {
        "id": "AHc-Y_hiwUzW"
      }
    },
    {
      "cell_type": "markdown",
      "source": [
        "- **shape** : 행렬의 형상\n",
        "- **dtype** : 행렬에 담긴 원소의 자료형"
      ],
      "metadata": {
        "id": "t0Nm6oNzxnd-"
      }
    },
    {
      "cell_type": "code",
      "source": [
        "A = np.array([[1, 2], [3, 4]])                          # 2차원 배열(행렬) 작성\n",
        "print('A =\\n', A)\n",
        "\n",
        "print('행렬 A의 형상 :', A.shape)                       # 행렬 A의 형상 : 2행 x 2열\n",
        "\n",
        "print('행렬 A에 담긴 원소의 자료형 :', A.dtype)         # 행렬 A에 담긴 원소의 자료형 : int"
      ],
      "metadata": {
        "colab": {
          "base_uri": "https://localhost:8080/"
        },
        "id": "CwYQSPiJNeLk",
        "outputId": "d0254dc8-f9b2-430c-9e4f-750eba556d31"
      },
      "execution_count": 30,
      "outputs": [
        {
          "output_type": "stream",
          "name": "stdout",
          "text": [
            "A =\n",
            " [[1 2]\n",
            " [3 4]]\n",
            "행렬 A의 형상 : (2, 2)\n",
            "행렬 A에 담긴 원소의 자료형 : int64\n"
          ]
        }
      ]
    },
    {
      "cell_type": "markdown",
      "source": [
        "- **행렬**의 산술 연산 : **형상이 같은** 행렬끼리면 행렬의 산술 연산도 대응하는 원소별로 계산됨\n",
        "- **행렬과 스칼라값**의 산술 연산 : 브로드캐스트 기능 작동"
      ],
      "metadata": {
        "id": "shcGtNOcx3bc"
      }
    },
    {
      "cell_type": "code",
      "source": [
        "B = np.array([[3, 0], [0, 6]])          \n",
        "\n",
        "print('A + B = \\n', A + B)          # 형상이 같은 두 A, B 행렬끼리의 합\n",
        "\n",
        "print('A * B = \\n', A * B)          # 형상이 같은 두 A, B 행렬끼리의 곱"
      ],
      "metadata": {
        "colab": {
          "base_uri": "https://localhost:8080/"
        },
        "id": "naJW-1wGzfeN",
        "outputId": "c57a4c6a-360c-42b1-b9cc-0cf3f906592e"
      },
      "execution_count": 28,
      "outputs": [
        {
          "output_type": "stream",
          "name": "stdout",
          "text": [
            "A + B = \n",
            " [[ 4  2]\n",
            " [ 3 10]]\n",
            "A * B = \n",
            " [[ 3  0]\n",
            " [ 0 24]]\n"
          ]
        }
      ]
    },
    {
      "cell_type": "code",
      "source": [
        "print('A = \\n', A)                  \n",
        "\n",
        "print('A * 10 = \\n', A * 10)        # 행렬 A와 스칼라값의 곱"
      ],
      "metadata": {
        "colab": {
          "base_uri": "https://localhost:8080/"
        },
        "id": "Dwq3ERhR0A_y",
        "outputId": "5e3406c8-1f3f-4829-fdca-612d90a76c1d"
      },
      "execution_count": 31,
      "outputs": [
        {
          "output_type": "stream",
          "name": "stdout",
          "text": [
            "A = \n",
            " [[1 2]\n",
            " [3 4]]\n",
            "A * 10 = \n",
            " [[10 20]\n",
            " [30 40]]\n"
          ]
        }
      ]
    },
    {
      "cell_type": "markdown",
      "source": [
        "### 1.5.5 브로드캐스트"
      ],
      "metadata": {
        "id": "n5jgetM4Nhwz"
      }
    },
    {
      "cell_type": "markdown",
      "source": [
        "- 넘파이에서는 **형상이 다른 배열끼리**도 계산 가능"
      ],
      "metadata": {
        "id": "1kyNcVzp0e4u"
      }
    },
    {
      "cell_type": "code",
      "source": [
        "A = np.array([[1, 2], [3, 4]])          # 2차원 배열 A\n",
        "B = np.array([10, 20])                  # 1차원 배열 B\n",
        "\n",
        "print('A * B = \\n', A * B)              # 1차원 배열인 B가 2차원 배열 A와 똑같은 형상으로 변형된 후 원소별 연산이 이루어짐"
      ],
      "metadata": {
        "colab": {
          "base_uri": "https://localhost:8080/"
        },
        "id": "Z8cbIFHFNnXD",
        "outputId": "3415e9cb-e6c6-44d6-cc60-e09f1a3b5987"
      },
      "execution_count": 32,
      "outputs": [
        {
          "output_type": "stream",
          "name": "stdout",
          "text": [
            "A * B = \n",
            " [[10 40]\n",
            " [30 80]]\n"
          ]
        }
      ]
    },
    {
      "cell_type": "markdown",
      "source": [
        "### 1.5.6 원소 접근"
      ],
      "metadata": {
        "id": "WzNqLPz4Nore"
      }
    },
    {
      "cell_type": "markdown",
      "source": [
        "- **원소의 인덱스**로 각 원소 접근 가능 (원소의 인덱스는 **0**부터 시작)"
      ],
      "metadata": {
        "id": "4sF0Vh0E1_5M"
      }
    },
    {
      "cell_type": "code",
      "source": [
        "X = np.array([[51, 55], [14, 19], [0, 4]])\n",
        "print('X =\\n', X)\n",
        "\n",
        "print('X의 0행 :', X[0])                             # 0행\n",
        "\n",
        "print('X의 (0, 1) 위치의 원소 :', X[0][1])           # (0, 1) 위치의 원소"
      ],
      "metadata": {
        "colab": {
          "base_uri": "https://localhost:8080/"
        },
        "id": "gf3kjcQwNscw",
        "outputId": "ba2520ca-c7a5-4442-fa28-fca019d64a0e"
      },
      "execution_count": 34,
      "outputs": [
        {
          "output_type": "stream",
          "name": "stdout",
          "text": [
            "X =\n",
            " [[51 55]\n",
            " [14 19]\n",
            " [ 0  4]]\n",
            "X의 0행 : [51 55]\n",
            "X의 (0, 1) 위치의 원소 : 55\n"
          ]
        }
      ]
    },
    {
      "cell_type": "markdown",
      "source": [
        "- **for 문**으로도 각 원소에 접근 가능"
      ],
      "metadata": {
        "id": "VZ0e5oqs2Kl4"
      }
    },
    {
      "cell_type": "code",
      "source": [
        "for row in X:\n",
        "    print(row)"
      ],
      "metadata": {
        "colab": {
          "base_uri": "https://localhost:8080/"
        },
        "id": "cYwkKhoL2QDR",
        "outputId": "fd4481c3-281b-4799-e5fb-5c1421174445"
      },
      "execution_count": 35,
      "outputs": [
        {
          "output_type": "stream",
          "name": "stdout",
          "text": [
            "[51 55]\n",
            "[14 19]\n",
            "[0 4]\n"
          ]
        }
      ]
    },
    {
      "cell_type": "markdown",
      "source": [
        "- 인덱스를 **배열로 지정**해 **한 번에 여러 원소에 접근**할 수 있음"
      ],
      "metadata": {
        "id": "Xsu9ByBs2aUO"
      }
    },
    {
      "cell_type": "code",
      "source": [
        "X = X.flatten()                                                     # X를 1차원 배열로 변환 (평탄화)\n",
        "print('X를 1차원 배열로 평탄화 :', X)\n",
        "\n",
        "print('인덱스가 0, 2, 4인 원소 :', X[np.array([0, 2, 4])])          # 인덱스가 0, 2, 4인 원소 얻기"
      ],
      "metadata": {
        "colab": {
          "base_uri": "https://localhost:8080/"
        },
        "id": "BP_b5Owf2ibq",
        "outputId": "a28c6e4d-2ad0-4ed1-87ee-839370b908ae"
      },
      "execution_count": 37,
      "outputs": [
        {
          "output_type": "stream",
          "name": "stdout",
          "text": [
            "X를 1차원 배열로 평탄화 : [51 55 14 19  0  4]\n",
            "인덱스가 0, 2, 4인 원소 : [51 14  0]\n"
          ]
        }
      ]
    },
    {
      "cell_type": "markdown",
      "source": [
        "- **특정 조건**을 만족하는 원소만 얻을 수 있음"
      ],
      "metadata": {
        "id": "pvhuTafs3QQ7"
      }
    },
    {
      "cell_type": "code",
      "source": [
        "print('배열 X의 원소가 15 이상인지 여부 확인 : ',X > 15)        # 넘파이 배열에 부등호 연산자를 사용한 결과 : bool 배열\n",
        "\n",
        "print('배열 X에서 15 이상인 값 :', X[X > 15])                   # True에 해당하는 원소 → 값이 15보다 큰 원소만 추출"
      ],
      "metadata": {
        "colab": {
          "base_uri": "https://localhost:8080/"
        },
        "id": "6KKnOycs3VTV",
        "outputId": "355e5f4f-e6e7-4bf6-feb5-c98c8b253310"
      },
      "execution_count": 40,
      "outputs": [
        {
          "output_type": "stream",
          "name": "stdout",
          "text": [
            "배열 X의 원소가 15 이상인지 여부 확인 :  [ True  True False  True False False]\n",
            "배열 X에서 15 이상인 값 : [51 55 19]\n"
          ]
        }
      ]
    },
    {
      "cell_type": "markdown",
      "source": [
        "## 1.6 matplotlib"
      ],
      "metadata": {
        "id": "4MMgUrIANt2o"
      }
    },
    {
      "cell_type": "markdown",
      "source": [
        "- **matplotlib** : 그래프를 그려주는 라이브러리"
      ],
      "metadata": {
        "id": "cLtlbHaE44eU"
      }
    },
    {
      "cell_type": "markdown",
      "source": [
        "### 1.6.1 단순한 그래프 그리기"
      ],
      "metadata": {
        "id": "hHT8KoUqN2Nb"
      }
    },
    {
      "cell_type": "markdown",
      "source": [
        "- matplotlib의 **pyplot** 모듈 : 그래프 그리는 모듈"
      ],
      "metadata": {
        "id": "cvXTA_A85DBY"
      }
    },
    {
      "cell_type": "code",
      "source": [
        "import numpy as np\n",
        "import matplotlib.pyplot as plt\n",
        "\n",
        "# 데이터 준비\n",
        "x = np.arange(0, 6, 0.1)            # 0에서 6까지 0.1 간격으로 생성해 변수 x에 할당\n",
        "y = np.sin(x)                       # x의 각 원소에 넘파이의 sin 함수인 np.sin()을 적용해 변수 y에 할당\n",
        "\n",
        "# 그래프 그리기\n",
        "plt.plot(x, y)                      # x와 y를 인수로 plt.plot 메서드를 호출해 그래프 그리기\n",
        "plt.show()                          # 그래프를 화면에 표출"
      ],
      "metadata": {
        "colab": {
          "base_uri": "https://localhost:8080/",
          "height": 265
        },
        "id": "toAt6WCdNyK2",
        "outputId": "b6d4384a-6e87-4ba8-8497-f8aa60917822"
      },
      "execution_count": 42,
      "outputs": [
        {
          "output_type": "display_data",
          "data": {
            "text/plain": [
              "<Figure size 432x288 with 1 Axes>"
            ],
            "image/png": "[encoded data removed]"
          },
          "metadata": {
            "needs_background": "light"
          }
        }
      ]
    },
    {
      "cell_type": "markdown",
      "source": [
        "### 1.6.2 pyplot의 기능"
      ],
      "metadata": {
        "id": "ZVio9x_xN6iO"
      }
    },
    {
      "cell_type": "code",
      "source": [
        "import numpy as np\n",
        "import matplotlib.pyplot as plt\n",
        "\n",
        "# 데이터 준비\n",
        "x = np.arange(0, 6, 0.1)                            # 0에서 6까지 0.1 간격으로 생성\n",
        "y1 = np.sin(x)                                      # x의 각 원소에 넘파이의 sin 함수인 np.sin()을 적용해 변수 y1에 할당\n",
        "y2 = np.cos(x)                                      # x의 각 원소에 넘파이의 cos 함수인 np.cos()을 적용해 변수 y2에 할당\n",
        "\n",
        "# 그래프 그리기\n",
        "plt.plot(x, y1, label=\"sin\")\n",
        "plt.plot(x, y2, linestyle=\"--\", label=\"cos\")        # cos 함수는 점선으로 그리기\n",
        "plt.xlabel(\"x\")                                     # x축 이름\n",
        "plt.ylabel(\"y\")                                     # y축 이름\n",
        "plt.title('sin & cos')                              # 제목\n",
        "plt.legend()                                        # 범례\n",
        "plt.show()                                          # 그래프를 화면에 표출"
      ],
      "metadata": {
        "colab": {
          "base_uri": "https://localhost:8080/",
          "height": 295
        },
        "id": "Wg6bgRDzN-XM",
        "outputId": "386c029c-1b0a-4f50-aef6-b7d586ac2cb8"
      },
      "execution_count": 44,
      "outputs": [
        {
          "output_type": "display_data",
          "data": {
            "text/plain": [
              "<Figure size 432x288 with 1 Axes>"
            ],
            "image/png": "[encoded data removed]"
          },
          "metadata": {
            "needs_background": "light"
          }
        }
      ]
    },
    {
      "cell_type": "markdown",
      "source": [
        "### 1.6.3 이미지 표시하기"
      ],
      "metadata": {
        "id": "-njiogfaN_7v"
      }
    },
    {
      "cell_type": "markdown",
      "source": [
        "- **imshow()** 메서드 : pyplot에 이미지를 표시해주는 메서드\n",
        "- **imread()** 메서드 : pyplot에 이미지를 읽어들이는 메서드"
      ],
      "metadata": {
        "id": "PKzerg9C7A6J"
      }
    },
    {
      "cell_type": "code",
      "source": [
        "# 구글 드라이브와 연결\n",
        "from google.colab import auth\n",
        "auth.authenticate_user()\n",
        "\n",
        "from google.colab import drive\n",
        "drive.mount('/content/drive')"
      ],
      "metadata": {
        "colab": {
          "base_uri": "https://localhost:8080/"
        },
        "id": "YVy6TvS79kU6",
        "outputId": "ba18720e-be55-4ca3-8b46-3723ce260699"
      },
      "execution_count": 46,
      "outputs": [
        {
          "output_type": "stream",
          "name": "stdout",
          "text": [
            "Mounted at /content/drive\n"
          ]
        }
      ]
    },
    {
      "cell_type": "code",
      "source": [
        "import matplotlib.pyplot as plt\n",
        "from matplotlib.image import imread\n",
        "\n",
        "img = imread('/content/drive/My Drive/cactus.png')          # 이미지 읽어오기(적절한 경로를 설정해야 함)\n",
        "\n",
        "plt.imshow(img)                                             # 읽어온 이미지 표시\n",
        "plt.show()"
      ],
      "metadata": {
        "colab": {
          "base_uri": "https://localhost:8080/",
          "height": 269
        },
        "id": "q24hBTDuOB9I",
        "outputId": "67a6314a-cb46-4227-d411-02d7566cdec4"
      },
      "execution_count": 52,
      "outputs": [
        {
          "output_type": "display_data",
          "data": {
            "text/plain": [
              "<Figure size 432x288 with 1 Axes>"
            ],
            "image/png": "[encoded data removed]"
          },
          "metadata": {
            "needs_background": "light"
          }
        }
      ]
    }
  ]
}