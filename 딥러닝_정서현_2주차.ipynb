{
  "nbformat": 4,
  "nbformat_minor": 0,
  "metadata": {
    "colab": {
      "provenance": [],
      "authorship_tag": "ABX9TyNh+UUj/NMwKxA677K0QVeF",
      "include_colab_link": true
    },
    "kernelspec": {
      "name": "python3",
      "display_name": "Python 3"
    },
    "language_info": {
      "name": "python"
    }
  },
  "cells": [
    {
      "cell_type": "markdown",
      "metadata": {
        "id": "view-in-github",
        "colab_type": "text"
      },
      "source": [
        "<a href=\"https://colab.research.google.com/github/jsh1021902/CUAI_DeepLearning/blob/main/%EB%94%A5%EB%9F%AC%EB%8B%9D_%EC%A0%95%EC%84%9C%ED%98%84_2%EC%A3%BC%EC%B0%A8.ipynb\" target=\"_parent\"><img src=\"https://colab.research.google.com/assets/colab-badge.svg\" alt=\"Open In Colab\"/></a>"
      ]
    },
    {
      "cell_type": "markdown",
      "source": [
        "# 2. 퍼셉트론"
      ],
      "metadata": {
        "id": "J0HlcgvDWkoc"
      }
    },
    {
      "cell_type": "markdown",
      "source": [
        "## 2.1 퍼셉트론이란?"
      ],
      "metadata": {
        "id": "0QXaYQcpWq43"
      }
    },
    {
      "cell_type": "markdown",
      "source": [
        "**퍼셉트론** *perceptron*은 1957년에 프랑크 로젠블라트가 고안한 신경망의 기원이 되는 알고리즘이다. (단순) 퍼셉트론은 다수의 신호를 입력으로 받아 하나의 신호를 출력한다.\n",
        "\n",
        "$x_{1}$과 $x_{2}$는 입력 신호, $y$는 출력 신호 $w_{1}$, $w_{2}$는 가중치를 말한다. 입력 신호에 고유한 **가중치**가 곱해 총합이 한계를 넘어서면 1을 출력한다. 그 한계를 **임계값**이라 하며, $\\theta$(세타)로 나타낸다. 이를 수식으로 나타내면 아래와 같다.\n",
        "\n",
        "$y = \\begin{cases}\n",
        "0, & (w_1 x_1 + x_2 x_2 \\leq \\theta) \\\\\n",
        "1, & (w_1 x_1 + x_2 x_2 > \\theta)\n",
        "\\end{cases}$\n",
        "\n",
        "퍼셉트론은 복수의 입력 신호 각각에 고유한 가중치를 부여한다. 가중치는 각 신호가 결과에 주는 영향력을 조절하는 요소로 작용한다. 즉, 가중치가 클수록 해당 신호가 그만큼 더 중요함을 뜻한다."
      ],
      "metadata": {
        "id": "DplwGUtFYBCJ"
      }
    },
    {
      "cell_type": "markdown",
      "source": [
        "## 2.2 단순한 논리 회로"
      ],
      "metadata": {
        "id": "PSTphTKbWrMX"
      }
    },
    {
      "cell_type": "markdown",
      "source": [
        "### 2.2.1 AND 게이트"
      ],
      "metadata": {
        "id": "NS0q31YEW2zT"
      }
    },
    {
      "cell_type": "markdown",
      "source": [],
      "metadata": {
        "id": "51PHXXetYEfK"
      }
    },
    {
      "cell_type": "markdown",
      "source": [
        "### 2.2.2 NAND 게이트와 OR 게이트"
      ],
      "metadata": {
        "id": "cxafQx-FXDzo"
      }
    },
    {
      "cell_type": "markdown",
      "source": [],
      "metadata": {
        "id": "dVEulTFFYHND"
      }
    },
    {
      "cell_type": "markdown",
      "source": [
        "## 2.3 퍼셉트론 구현하기"
      ],
      "metadata": {
        "id": "HqNHxpk-XSVG"
      }
    },
    {
      "cell_type": "markdown",
      "source": [
        "### 2.3.1 간단한 구현부터"
      ],
      "metadata": {
        "id": "4IA2XaMhXV_H"
      }
    },
    {
      "cell_type": "code",
      "source": [
        "import numpy as np"
      ],
      "metadata": {
        "id": "tCh7JjeCXVJV"
      },
      "execution_count": null,
      "outputs": []
    },
    {
      "cell_type": "code",
      "source": [
        "def AND(x1, x2):\n",
        "    w1, w2, theta = 0.5, 0.5, 0.7\n",
        "    tmp = x1 * w1 + x2 * w2\n",
        "    if tmp <= theta:\n",
        "        return 0\n",
        "    elif tmp > theta:\n",
        "        return 1\n",
        "\n",
        "print('AND(0, 0) :', AND(0, 0))       # 0을 출력\n",
        "print('AND(1, 0) :', AND(1, 0))       # 0을 출력\n",
        "print('AND(0, 1) :', AND(0, 1))       # 0을 출력\n",
        "print('AND(1, 1) :', AND(1, 1))       # 1을 출력"
      ],
      "metadata": {
        "id": "antJrwoAYTqo"
      },
      "execution_count": 1,
      "outputs": []
    },
    {
      "cell_type": "markdown",
      "source": [
        "### 2.3.2 가중치와 편향 도입"
      ],
      "metadata": {
        "id": "0cQQ7efhXY4I"
      }
    },
    {
      "cell_type": "code",
      "source": [
        "x = np.array([0, 1])  # 입력\n",
        "w = np.array([0.5, 0.5])  # 가중치\n",
        "b = -0.7  # 편향\n",
        "\n",
        "print(w * x)                # [0. 0.5]\n",
        "print(np.sum(w * x))        # 0.5\n",
        "print(np.sum(w * x) + b)    # -0.2"
      ],
      "metadata": {
        "id": "lfxho2HHXcJC"
      },
      "execution_count": null,
      "outputs": []
    },
    {
      "cell_type": "markdown",
      "source": [
        "### 2.3.3 가중치와 편향 구현하기"
      ],
      "metadata": {
        "id": "t-sVd9QJXclZ"
      }
    },
    {
      "cell_type": "code",
      "source": [
        "def AND(x1, x2):\n",
        "    x = np.array([x1, x2])\n",
        "    w = np.array([0.5, 0.5])\n",
        "    b = -0.7\n",
        "    tmp = np.sum(w * x) + b\n",
        "    if tmp <= 0:\n",
        "        return 0\n",
        "    else:\n",
        "        return 1\n",
        "\n",
        "print(\"AND\")\n",
        "print(AND(0, 0))  # 0\n",
        "print(AND(0, 1))  # 0\n",
        "print(AND(1, 0))  # 0\n",
        "print(AND(1, 1))  # 1"
      ],
      "metadata": {
        "id": "B4zTHQSrXfqW"
      },
      "execution_count": null,
      "outputs": []
    },
    {
      "cell_type": "code",
      "source": [
        "def NAND(x1, x2):\n",
        "    x = np.array([x1, x2])\n",
        "    w = np.array([-0.5, -0.5])  # AND와는 가중치(w, b)만 다르다\n",
        "    b = 0.7\n",
        "    tmp = np.sum(w * x) + b\n",
        "    if tmp <= 0:\n",
        "        return 0\n",
        "    else:\n",
        "        return 1\n",
        "\n",
        "def OR(x1, x2):\n",
        "    x = np.array([x1, x2])\n",
        "    w = np.array([0.5, 0.5])  # AND와는 가중치(w, b)만 다르다\n",
        "    b = -0.2\n",
        "    tmp = np.sum(w * x) + b\n",
        "    if tmp <= 0:\n",
        "        return 0\n",
        "    else:\n",
        "        return 1\n",
        "\n",
        "print(\"NAND\")\n",
        "print(NAND(0, 0))  # 1\n",
        "print(NAND(0, 1))  # 1\n",
        "print(NAND(1, 0))  # 1\n",
        "print(NAND(1, 1))  # 0\n",
        "\n",
        "print(\"OR\")\n",
        "print(OR(0, 0))  # 0\n",
        "print(OR(0, 1))  # 1\n",
        "print(OR(1, 0))  # 1\n",
        "print(OR(1, 1))  # 1"
      ],
      "metadata": {
        "id": "QedcFNDjY6Zv"
      },
      "execution_count": null,
      "outputs": []
    },
    {
      "cell_type": "markdown",
      "source": [
        "## 2.4 퍼셉트론의 한계"
      ],
      "metadata": {
        "id": "f6kPX1aWXhbE"
      }
    },
    {
      "cell_type": "markdown",
      "source": [
        "### 2.4.1 도전! XOR 게이트"
      ],
      "metadata": {
        "id": "3Trm8Sr-Xkyl"
      }
    },
    {
      "cell_type": "markdown",
      "source": [
        "XOR게이트는 단층(선형) 퍼셉트론으로는 구현 불가능하다.\n",
        " = 단층 퍼셉트론으로는 비선형 영역을 분리할 수 없다.\n",
        "다층 퍼셉트론multi-layer perceptron을 통해 구현 가능"
      ],
      "metadata": {
        "id": "JMNKHwywZIbV"
      }
    },
    {
      "cell_type": "markdown",
      "source": [
        "### 2.4.2 선형과 비선형"
      ],
      "metadata": {
        "id": "u9s__jM4XoR3"
      }
    },
    {
      "cell_type": "code",
      "source": [],
      "metadata": {
        "id": "-mCbP91sXqh3"
      },
      "execution_count": null,
      "outputs": []
    },
    {
      "cell_type": "markdown",
      "source": [
        "## 2.5 다층 퍼셉트론이 출동한다면"
      ],
      "metadata": {
        "id": "oS7YUd8oXsgQ"
      }
    },
    {
      "cell_type": "markdown",
      "source": [
        "### 2.5.1 기존 게이트 조합하기"
      ],
      "metadata": {
        "id": "aXvL1NKrXwsj"
      }
    },
    {
      "cell_type": "code",
      "source": [
        "# XOR(x1, x2) = AND(NAND(x1, x2), OR(x1, x2))"
      ],
      "metadata": {
        "id": "X0CJfrAYXv-E"
      },
      "execution_count": null,
      "outputs": []
    },
    {
      "cell_type": "markdown",
      "source": [
        "### 2.5.2 XOR 게이트 구현하기"
      ],
      "metadata": {
        "id": "TzMPvzqRX067"
      }
    },
    {
      "cell_type": "code",
      "source": [
        "def XOR(x1, x2):\n",
        "    s1 = NAND(x1, x2)\n",
        "    s2 = OR(x1, x2)\n",
        "    y = AND(s1, s2)\n",
        "    return y\n",
        "\n",
        "\n",
        "print(\"XOR\")\n",
        "print(XOR(0, 0))  # 0\n",
        "print(XOR(0, 1))  # 1\n",
        "print(XOR(1, 0))  # 1\n",
        "print(XOR(1, 1))  # 0\n",
        "\n",
        "# XOR은 2층 퍼셉트론이다.\n",
        "# 2층 퍼셉트론(=비선형 시그노이드 함수)를 활성화 함수로 사용하면\n",
        "# 임의의 함수를 표현할 수 있다는 사실이 증명되어 있다.\n"
      ],
      "metadata": {
        "id": "4U2jhwFzX3Oa"
      },
      "execution_count": null,
      "outputs": []
    },
    {
      "cell_type": "markdown",
      "source": [
        "## 2.6 NAND에서 컴퓨터까지"
      ],
      "metadata": {
        "id": "KQuBPMBtX3us"
      }
    },
    {
      "cell_type": "code",
      "source": [],
      "metadata": {
        "id": "A5YqIo-OX6nf"
      },
      "execution_count": null,
      "outputs": []
    }
  ]
}