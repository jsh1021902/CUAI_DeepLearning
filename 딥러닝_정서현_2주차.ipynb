{
  "nbformat": 4,
  "nbformat_minor": 0,
  "metadata": {
    "colab": {
      "provenance": [],
      "authorship_tag": "ABX9TyM4oKUHmrMLifTpKLqClBHz",
      "include_colab_link": true
    },
    "kernelspec": {
      "name": "python3",
      "display_name": "Python 3"
    },
    "language_info": {
      "name": "python"
    }
  },
  "cells": [
    {
      "cell_type": "markdown",
      "metadata": {
        "id": "view-in-github",
        "colab_type": "text"
      },
      "source": [
        "<a href=\"https://colab.research.google.com/github/jsh1021902/CUAI_DeepLearning/blob/main/%EB%94%A5%EB%9F%AC%EB%8B%9D_%EC%A0%95%EC%84%9C%ED%98%84_2%EC%A3%BC%EC%B0%A8.ipynb\" target=\"_parent\"><img src=\"https://colab.research.google.com/assets/colab-badge.svg\" alt=\"Open In Colab\"/></a>"
      ]
    },
    {
      "cell_type": "markdown",
      "source": [
        "# 2. 퍼셉트론"
      ],
      "metadata": {
        "id": "J0HlcgvDWkoc"
      }
    },
    {
      "cell_type": "markdown",
      "source": [
        "## 2.1 퍼셉트론이란?"
      ],
      "metadata": {
        "id": "0QXaYQcpWq43"
      }
    },
    {
      "cell_type": "markdown",
      "source": [
        "- **퍼셉트론** (perceptron) : 1957년에 프랑크 로젠블라트가 고안한 신경망의 기원이 되는 알고리즘  \n",
        "→ **다수의 신호를 입력으로 받아 하나의 신호를 출력**\n",
        "\n",
        "- $x_{1}$과 $x_{2}$ : 입력 신호\n",
        "- $y$ : 출력 신호\n",
        "- $w_{1}$과 $w_{2}$ : 가중치 \n",
        "- 뉴런(노드)\n",
        "\n",
        "→ 입력 신호에 고유한 **가중치**를 곱해 총합이 정해진 한계를 넘어서면 1을 출력  \n",
        "- **임계값** : 정해진 한계, $\\theta$(세타)로 나타냄 \n",
        "\n",
        "이를 수식으로 나타내면 아래와 같음\n",
        "\n",
        "$y = \\begin{cases}\n",
        "0, & (w_1 x_1 + w_2 x_2 \\leq \\theta) \\\\\n",
        "1, & (w_1 x_1 + w_2 x_2 > \\theta)\n",
        "\\end{cases}$\n",
        "\n",
        "→ 퍼셉트론 : 복수의 입력 신호 **각각에 고유한 가중치를 부여**  \n",
        "→ **가중치** : 각 신호가 결과에 주는 영향력을 조절하는 요소로 작용  \n",
        "(즉, 가중치가 클수록 해당 신호가 그만큼 더 중요함을 뜻함)"
      ],
      "metadata": {
        "id": "DplwGUtFYBCJ"
      }
    },
    {
      "cell_type": "markdown",
      "source": [
        "## 2.2 단순한 논리 회로"
      ],
      "metadata": {
        "id": "PSTphTKbWrMX"
      }
    },
    {
      "cell_type": "markdown",
      "source": [
        "### 2.2.1 AND 게이트"
      ],
      "metadata": {
        "id": "NS0q31YEW2zT"
      }
    },
    {
      "cell_type": "markdown",
      "source": [
        "- **AND 게이트** : 입력이 둘이고 출력은 하나\n",
        "- **진리표** : 입력 신호와 출력 신호의 대응 표   \n",
        "→ 두 입력이 모두 1일 때만 1을 출력하고, 그 외에는 0을 출력 \n",
        "  \n",
        "- 퍼셉트론으로 AND 게이트 표현 : $w_{1}$, $w_{2}$, $\\theta$의 값 필요\n"
      ],
      "metadata": {
        "id": "51PHXXetYEfK"
      }
    },
    {
      "cell_type": "markdown",
      "source": [
        "### 2.2.2 NAND 게이트와 OR 게이트"
      ],
      "metadata": {
        "id": "cxafQx-FXDzo"
      }
    },
    {
      "cell_type": "markdown",
      "source": [
        "- **NAND** : Not AND 의미 → 동작 : AND 게이트의 출력 뒤집은 것  \n",
        "→ $x_{1}$과 $x_{2}$ 모두 1일 때만 0을 출력하고, 그 외에는 1을 출력  \n",
        "- **NAND 게이트** : AND 게이트를 구현하는 매개변수의 부호를 모두 반전\n",
        "- **OR 게이트** : 입력 신호 중 하나 이상이 1이면 출력이 1이 되는 논리회로"
      ],
      "metadata": {
        "id": "dVEulTFFYHND"
      }
    },
    {
      "cell_type": "markdown",
      "source": [
        "- **퍼셉트론의 구조** : AND, NAND, OR 게이트 **모두에서 똑같음**\n",
        "- 세 가지 게이트에서 **다른 것** : **매개변수 (가중치와 임계값)의 값** 뿐\n",
        "  \n",
        "→ 똑같은 구조의 퍼셉트론이 매개변수의 값만 적절히 조정하여 AND, NAND, OR로 변신"
      ],
      "metadata": {
        "id": "0WJTWCD8yWiX"
      }
    },
    {
      "cell_type": "markdown",
      "source": [
        "## 2.3 퍼셉트론 구현하기"
      ],
      "metadata": {
        "id": "HqNHxpk-XSVG"
      }
    },
    {
      "cell_type": "markdown",
      "source": [
        "### 2.3.1 간단한 구현부터"
      ],
      "metadata": {
        "id": "4IA2XaMhXV_H"
      }
    },
    {
      "cell_type": "markdown",
      "source": [
        "- $x_{1}$과 $x_{2}$를 인수로 받는 AND 함수"
      ],
      "metadata": {
        "id": "Gvq5Azqf0Xdl"
      }
    },
    {
      "cell_type": "code",
      "source": [
        "import numpy as np"
      ],
      "metadata": {
        "id": "tCh7JjeCXVJV"
      },
      "execution_count": null,
      "outputs": []
    },
    {
      "cell_type": "code",
      "source": [
        "def AND(x1, x2):\n",
        "    w1, w2, theta = 0.5, 0.5, 0.7     # 매개변수 w1, w2, theta는 함수 안에서 초기화\n",
        "    tmp = x1 * w1 + x2 * w2           \n",
        "    if tmp <= theta:                  # 가중치를 곱한 입력의 총합이 임계값을 넘으면 1을 반환하고 그 외에는 0을 반환\n",
        "        return 0\n",
        "    elif tmp > theta:\n",
        "        return 1\n",
        "\n",
        "print('AND(0, 0) :', AND(0, 0))       # 0을 출력\n",
        "print('AND(1, 0) :', AND(1, 0))       # 0을 출력\n",
        "print('AND(0, 1) :', AND(0, 1))       # 0을 출력\n",
        "print('AND(1, 1) :', AND(1, 1))       # 1을 출력"
      ],
      "metadata": {
        "id": "antJrwoAYTqo",
        "colab": {
          "base_uri": "https://localhost:8080/"
        },
        "outputId": "7858b011-9245-45da-8fdf-4cbb5ab2e059"
      },
      "execution_count": null,
      "outputs": [
        {
          "output_type": "stream",
          "name": "stdout",
          "text": [
            "AND(0, 0) : 0\n",
            "AND(1, 0) : 0\n",
            "AND(0, 1) : 0\n",
            "AND(1, 1) : 1\n"
          ]
        }
      ]
    },
    {
      "cell_type": "markdown",
      "source": [
        "### 2.3.2 가중치와 편향 도입"
      ],
      "metadata": {
        "id": "0cQQ7efhXY4I"
      }
    },
    {
      "cell_type": "markdown",
      "source": [
        "$\\theta$를 -b로 치환했을 때\n",
        "\n",
        "$y = \\begin{cases}\n",
        "0, & (b + w_1 x_1 + w_2 x_2 \\leq 0) \\\\\n",
        "1, & (b + w_1 x_1 + w_2 x_2 > 0)\n",
        "\\end{cases}$\n",
        "  \n",
        "- b : **편향**\n",
        "- $w_1$과 $w_2$ : 가중치\n",
        "\n",
        "→ 입력 신호에 가중치를 곱한 값과 편향을 합하여, 그 값이 0을 넘으면 1을 출력하고 그렇지 않으면 0을 출력"
      ],
      "metadata": {
        "id": "yThjbWIN0-PE"
      }
    },
    {
      "cell_type": "code",
      "source": [
        "x = np.array([0, 1])        # 입력\n",
        "w = np.array([0.5, 0.5])    # 가중치\n",
        "b = -0.7                    # 편향\n",
        "\n",
        "print(w * x)                # 두 배열의 원소 수가 같아 각 원소끼리 곱함 → ([0, 1] x [0.5, 0.5] → [0, 0.5])\n",
        "print(np.sum(w * x))        # 가중치를 곱한 입력의 총합 : 0.5\n",
        "print(np.sum(w * x) + b)    # 입력신호에 가중치를 곱한 값과 편향의 합 : -0.2"
      ],
      "metadata": {
        "id": "lfxho2HHXcJC",
        "colab": {
          "base_uri": "https://localhost:8080/"
        },
        "outputId": "2f0c7354-9708-4c45-a962-113437e0e4ec"
      },
      "execution_count": null,
      "outputs": [
        {
          "output_type": "stream",
          "name": "stdout",
          "text": [
            "[0.  0.5]\n",
            "0.5\n",
            "-0.19999999999999996\n"
          ]
        }
      ]
    },
    {
      "cell_type": "markdown",
      "source": [
        "### 2.3.3 가중치와 편향 구현하기"
      ],
      "metadata": {
        "id": "t-sVd9QJXclZ"
      }
    },
    {
      "cell_type": "markdown",
      "source": [
        "- **가중치와 편향을 도입한** AND 게이트"
      ],
      "metadata": {
        "id": "Sp8CVGI63xPG"
      }
    },
    {
      "cell_type": "code",
      "source": [
        "def AND(x1, x2):\n",
        "    x = np.array([x1, x2])\n",
        "    w = np.array([0.5, 0.5])    # 가중치 w1, w2 : 각 입력 신호가 결과에 주는 영향력(중요도)을 조절하는 매개변수       \n",
        "    b = -0.7                    # 편향 b : 뉴런이 얼마나 쉽게 활성화(결과로 1을 출력)하느냐를 조정하는 매개변수\n",
        "    tmp = np.sum(w * x) + b     # b = -0.7이므로 각 입력 신호에 가중치를 곱한 값들의 합이 0.7 초과할 때만 뉴런 활성화\n",
        "    if tmp <= 0:                # -theta → 편향 b로 치환됨\n",
        "        return 0\n",
        "    else:\n",
        "        return 1\n",
        "\n",
        "print(\"AND\")\n",
        "print(AND(0, 0))                # 0\n",
        "print(AND(0, 1))                # 0\n",
        "print(AND(1, 0))                # 0\n",
        "print(AND(1, 1))                # 1"
      ],
      "metadata": {
        "id": "B4zTHQSrXfqW",
        "colab": {
          "base_uri": "https://localhost:8080/"
        },
        "outputId": "e69b5435-ceb0-406d-9a3f-666807b82a71"
      },
      "execution_count": null,
      "outputs": [
        {
          "output_type": "stream",
          "name": "stdout",
          "text": [
            "AND\n",
            "0\n",
            "0\n",
            "0\n",
            "1\n"
          ]
        }
      ]
    },
    {
      "cell_type": "markdown",
      "source": [
        "- **가중치와 편향을 도입한** NAND 게이트와 OR 게이트"
      ],
      "metadata": {
        "id": "GO5nwBtz36QI"
      }
    },
    {
      "cell_type": "code",
      "source": [
        "def NAND(x1, x2):\n",
        "    x = np.array([x1, x2])\n",
        "    w = np.array([-0.5, -0.5])  # AND와는 가중치(w, b)만 다르다\n",
        "    b = 0.7\n",
        "    tmp = np.sum(w * x) + b\n",
        "    if tmp <= 0:\n",
        "        return 0\n",
        "    else:\n",
        "        return 1\n",
        "\n",
        "def OR(x1, x2):\n",
        "    x = np.array([x1, x2])\n",
        "    w = np.array([0.5, 0.5])  # AND와는 가중치(w, b)만 다르다\n",
        "    b = -0.2\n",
        "    tmp = np.sum(w * x) + b\n",
        "    if tmp <= 0:\n",
        "        return 0\n",
        "    else:\n",
        "        return 1\n",
        "\n",
        "print(\"NAND\")\n",
        "print(NAND(0, 0))             # 1\n",
        "print(NAND(0, 1))             # 1\n",
        "print(NAND(1, 0))             # 1\n",
        "print(NAND(1, 1))             # 0\n",
        "\n",
        "print(\"OR\")\n",
        "print(OR(0, 0))               # 0\n",
        "print(OR(0, 1))               # 1\n",
        "print(OR(1, 0))               # 1\n",
        "print(OR(1, 1))               # 1"
      ],
      "metadata": {
        "id": "QedcFNDjY6Zv",
        "colab": {
          "base_uri": "https://localhost:8080/"
        },
        "outputId": "1176fca8-f015-439e-d63c-b0ca1c9e2ef4"
      },
      "execution_count": null,
      "outputs": [
        {
          "output_type": "stream",
          "name": "stdout",
          "text": [
            "NAND\n",
            "1\n",
            "1\n",
            "1\n",
            "0\n",
            "OR\n",
            "0\n",
            "1\n",
            "1\n",
            "1\n"
          ]
        }
      ]
    },
    {
      "cell_type": "markdown",
      "source": [
        "- NAND와 OR 게이트의 코드에서 AND와 다른 곳 : **가중치와 편향 값을 설정하는 부분** 뿐"
      ],
      "metadata": {
        "id": "HFoAlgrO58UH"
      }
    },
    {
      "cell_type": "markdown",
      "source": [
        "## 2.4 퍼셉트론의 한계"
      ],
      "metadata": {
        "id": "f6kPX1aWXhbE"
      }
    },
    {
      "cell_type": "markdown",
      "source": [
        "### 2.4.1 도전! XOR 게이트"
      ],
      "metadata": {
        "id": "3Trm8Sr-Xkyl"
      }
    },
    {
      "cell_type": "markdown",
      "source": [
        "- **XOR 게이트** : **배타적 논리합**이라는 논리 회로  \n",
        "→ $x_{1}$과 $x_{2}$ 중 **한 쪽이 1일 때만** 1을 출력  \n",
        "(**배타적** : 자기 외에는 거부한다)"
      ],
      "metadata": {
        "id": "JMNKHwywZIbV"
      }
    },
    {
      "cell_type": "markdown",
      "source": [
        "### 2.4.2 선형과 비선형"
      ],
      "metadata": {
        "id": "u9s__jM4XoR3"
      }
    },
    {
      "cell_type": "markdown",
      "source": [
        "- **XOR게이트**는 단층(선형 : 직선의 영역) 퍼셉트론으로는 구현 불가능  \n",
        "→ 단층 퍼셉트론으로는 **비선형 영역(곡선의 영역)을 분리할 수 없음**  \n",
        "→ **다층 퍼셉트론**(multi-layer perceptron)을 통해 구현 가능\n"
      ],
      "metadata": {
        "id": "srio2OQy7_46"
      }
    },
    {
      "cell_type": "code",
      "source": [
        "# 구글 드라이브와 연결\n",
        "from google.colab import auth\n",
        "auth.authenticate_user()\n",
        "\n",
        "from google.colab import drive\n",
        "drive.mount('/content/drive')"
      ],
      "metadata": {
        "colab": {
          "base_uri": "https://localhost:8080/"
        },
        "id": "Lq5WpEO29UM4",
        "outputId": "a78fd24e-178a-4191-966c-132a5ac70eb8"
      },
      "execution_count": null,
      "outputs": [
        {
          "output_type": "stream",
          "name": "stdout",
          "text": [
            "Mounted at /content/drive\n"
          ]
        }
      ]
    },
    {
      "cell_type": "code",
      "source": [
        "import matplotlib.pyplot as plt\n",
        "from matplotlib.image import imread\n",
        "\n",
        "img = imread('/content/drive/My Drive/CUAI_딥러닝/XOR게이트.png')          # 이미지 읽어오기(적절한 경로를 설정해야 함)\n",
        "\n",
        "plt.imshow(img)                                            # 읽어온 이미지 표시\n",
        "plt.show()"
      ],
      "metadata": {
        "colab": {
          "base_uri": "https://localhost:8080/",
          "height": 269
        },
        "id": "0V7KpY5j9cf6",
        "outputId": "4c38b04b-4144-4ca4-9b9d-c34082ffd919"
      },
      "execution_count": null,
      "outputs": [
        {
          "output_type": "display_data",
          "data": {
            "text/plain": [
              "<Figure size 432x288 with 1 Axes>"
            ],
            "image/png": "[encoded data removed]"
          },
          "metadata": {
            "needs_background": "light"
          }
        }
      ]
    },
    {
      "cell_type": "markdown",
      "source": [
        "## 2.5 다층 퍼셉트론이 출동한다면"
      ],
      "metadata": {
        "id": "oS7YUd8oXsgQ"
      }
    },
    {
      "cell_type": "markdown",
      "source": [
        "- **XOR게이트**는 단층(선형 : 직선의 영역) 퍼셉트론으로는 구현 불가능  \n",
        "→ **다층 퍼셉트론**(multi-layer perceptron)을 통해 구현 가능\n"
      ],
      "metadata": {
        "id": "W6U-ZYi6_NUI"
      }
    },
    {
      "cell_type": "markdown",
      "source": [
        "### 2.5.1 기존 게이트 조합하기"
      ],
      "metadata": {
        "id": "aXvL1NKrXwsj"
      }
    },
    {
      "cell_type": "markdown",
      "source": [
        "**XOR 게이트 만드는 방법** 중 하나 : AND, NAND, OR 게이트를 조합  \n",
        "※ NAND 게이트 출력부에 있는 o 기호 : 출력을 반전한다는 뜻"
      ],
      "metadata": {
        "id": "Ez0nWTxM_eC5"
      }
    },
    {
      "cell_type": "code",
      "source": [
        "import matplotlib.pyplot as plt\n",
        "from matplotlib.image import imread\n",
        "\n",
        "img = imread('/content/drive/My Drive/CUAI_딥러닝/게이트기호.png')          # 이미지 읽어오기(적절한 경로를 설정해야 함)\n",
        "\n",
        "plt.imshow(img)                                                  # 읽어온 이미지 표시\n",
        "plt.show()"
      ],
      "metadata": {
        "colab": {
          "base_uri": "https://localhost:8080/",
          "height": 159
        },
        "id": "GpkOO_DqAL07",
        "outputId": "77c21717-f9ab-479d-a698-47cbdc253e4a"
      },
      "execution_count": null,
      "outputs": [
        {
          "output_type": "display_data",
          "data": {
            "text/plain": [
              "<Figure size 432x288 with 1 Axes>"
            ],
            "image/png": "[encoded data removed]"
          },
          "metadata": {
            "needs_background": "light"
          }
        }
      ]
    },
    {
      "cell_type": "markdown",
      "source": [
        "- NAND의 출력을 $s_{1}$, OR의 출력을 $s_{2}$로 설정"
      ],
      "metadata": {
        "id": "hQ4Q0dW1BukI"
      }
    },
    {
      "cell_type": "code",
      "source": [
        "# XOR(x1, x2) = AND(NAND(x1, x2), OR(x1, x2))"
      ],
      "metadata": {
        "id": "X0CJfrAYXv-E"
      },
      "execution_count": null,
      "outputs": []
    },
    {
      "cell_type": "code",
      "source": [
        "img2 = imread('/content/drive/My Drive/CUAI_딥러닝/게이트조합.png')         # 이미지 읽어오기(적절한 경로를 설정해야 함)\n",
        "\n",
        "plt.imshow(img2)\n",
        "plt.show()"
      ],
      "metadata": {
        "colab": {
          "base_uri": "https://localhost:8080/",
          "height": 186
        },
        "id": "MUOpYyOaBf-f",
        "outputId": "b9d26791-9e73-4e43-ee4d-ada7694ac04e"
      },
      "execution_count": null,
      "outputs": [
        {
          "output_type": "display_data",
          "data": {
            "text/plain": [
              "<Figure size 432x288 with 1 Axes>"
            ],
            "image/png": "[encoded data removed]"
          },
          "metadata": {
            "needs_background": "light"
          }
        }
      ]
    },
    {
      "cell_type": "code",
      "source": [
        "img3 = imread('/content/drive/My Drive/CUAI_딥러닝/XOR진리표.png')         # 이미지 읽어오기(적절한 경로를 설정해야 함)\n",
        "\n",
        "plt.imshow(img3)\n",
        "plt.show()"
      ],
      "metadata": {
        "colab": {
          "base_uri": "https://localhost:8080/",
          "height": 269
        },
        "id": "ggz7RIazCLRd",
        "outputId": "bbc47def-7100-4fc2-a3f9-80cfa7eb0da5"
      },
      "execution_count": 24,
      "outputs": [
        {
          "output_type": "display_data",
          "data": {
            "text/plain": [
              "<Figure size 432x288 with 1 Axes>"
            ],
            "image/png": "[encoded data removed]"
          },
          "metadata": {
            "needs_background": "light"
          }
        }
      ]
    },
    {
      "cell_type": "markdown",
      "source": [
        "### 2.5.2 XOR 게이트 구현하기"
      ],
      "metadata": {
        "id": "TzMPvzqRX067"
      }
    },
    {
      "cell_type": "code",
      "source": [
        "def XOR(x1, x2):                # XOR 함수를 함수 AND, NAND, OR를 사용해 구현\n",
        "    s1 = NAND(x1, x2)\n",
        "    s2 = OR(x1, x2)\n",
        "    y = AND(s1, s2)\n",
        "    return y\n",
        "\n",
        "\n",
        "print(\"XOR\")\n",
        "print(XOR(0, 0))  # 0\n",
        "print(XOR(0, 1))  # 1\n",
        "print(XOR(1, 0))  # 1\n",
        "print(XOR(1, 1))  # 0\n",
        "\n",
        "# XOR은 2층 퍼셉트론이다.\n",
        "# 2층 퍼셉트론(=비선형 시그노이드 함수)를 활성화 함수로 사용하면\n",
        "# 임의의 함수를 표현할 수 있다는 사실이 증명되어 있다.\n"
      ],
      "metadata": {
        "id": "4U2jhwFzX3Oa",
        "colab": {
          "base_uri": "https://localhost:8080/"
        },
        "outputId": "66dd0bee-26c8-436c-b7e9-9e572855fea3"
      },
      "execution_count": null,
      "outputs": [
        {
          "output_type": "stream",
          "name": "stdout",
          "text": [
            "XOR\n",
            "0\n",
            "1\n",
            "1\n",
            "0\n"
          ]
        }
      ]
    },
    {
      "cell_type": "markdown",
      "source": [
        "- **다층 퍼셉트론** : 층이 여러 개인 퍼셉트론\n",
        "- **2층 퍼셉트론에서의 동작 방법**\n",
        "1. 0층의 두 뉴런이 입력 신호를 받아 1층의 뉴런으로 신호를 보냄\n",
        "2. 1층의 뉴런이 2층의 뉴런으로 신호를 보내고, 2층의 뉴런은 y를 출력"
      ],
      "metadata": {
        "id": "pu_FuYRKDH63"
      }
    },
    {
      "cell_type": "markdown",
      "source": [
        "## 2.6 NAND에서 컴퓨터까지"
      ],
      "metadata": {
        "id": "KQuBPMBtX3us"
      }
    },
    {
      "cell_type": "markdown",
      "source": [
        "- **퍼셉트론**(NAND 게이트)으로 컴퓨터 표현 가능   \n",
        "= 컴퓨터도 퍼셉트론처럼 입력과 출력으로 구성된 특정 규칙대로 계산을 수행함\n",
        "\n",
        "→ 퍼셉트론은 **층을 거듭 쌓으면** **비선형적인 표현** 가능"
      ],
      "metadata": {
        "id": "gQe5PfC_DwuZ"
      }
    }
  ]
}